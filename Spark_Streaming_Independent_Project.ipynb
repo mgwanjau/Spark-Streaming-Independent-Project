{
  "nbformat": 4,
  "nbformat_minor": 0,
  "metadata": {
    "colab": {
      "provenance": []
    },
    "kernelspec": {
      "name": "python3",
      "display_name": "Python 3"
    },
    "language_info": {
      "name": "python"
    }
  },
  "cells": [
    {
      "cell_type": "code",
      "execution_count": 1,
      "metadata": {
        "colab": {
          "base_uri": "https://localhost:8080/"
        },
        "id": "bwH2r3x0Xd8t",
        "outputId": "4a959424-f3ac-473e-b9b2-be7b4611e853"
      },
      "outputs": [
        {
          "output_type": "stream",
          "name": "stdout",
          "text": [
            "Collecting confluent-Kafka\n",
            "  Downloading confluent_kafka-2.1.1-cp310-cp310-manylinux_2_17_x86_64.manylinux2014_x86_64.whl (3.9 MB)\n",
            "\u001b[?25l     \u001b[90m━━━━━━━━━━━━━━━━━━━━━━━━━━━━━━━━━━━━━━━━\u001b[0m \u001b[32m0.0/3.9 MB\u001b[0m \u001b[31m?\u001b[0m eta \u001b[36m-:--:--\u001b[0m\r\u001b[2K     \u001b[91m━━━━━━━━━━━━━━━━━━━━━━━━━━━━━━━━\u001b[0m\u001b[90m╺\u001b[0m\u001b[90m━━━━━━━\u001b[0m \u001b[32m3.2/3.9 MB\u001b[0m \u001b[31m93.6 MB/s\u001b[0m eta \u001b[36m0:00:01\u001b[0m\r\u001b[2K     \u001b[90m━━━━━━━━━━━━━━━━━━━━━━━━━━━━━━━━━━━━━━━━\u001b[0m \u001b[32m3.9/3.9 MB\u001b[0m \u001b[31m59.0 MB/s\u001b[0m eta \u001b[36m0:00:00\u001b[0m\n",
            "\u001b[?25hInstalling collected packages: confluent-Kafka\n",
            "Successfully installed confluent-Kafka-2.1.1\n"
          ]
        }
      ],
      "source": [
        "!pip install confluent-Kafka"
      ]
    },
    {
      "cell_type": "code",
      "source": [
        "m confluent_kafka import Producer\n",
        "import time\n",
        "import random\n",
        "\n",
        "# Kafka producer configuration\n",
        "bootstrap_servers = 'pkc-lzvrd.us-west4.gcp.confluent.cloud:9092'\n",
        "sasl_username = 'ATT27BW7IKWVVS7C'\n",
        "sasl_password = 'N+mQd+xm1CRv4GhKgoMTWpAXISNzLudR0w+VW/SACm7AW6JSjntN1Fgz0nwSKaA8'\n",
        "topic_name = 'network-traffic'\n",
        "\n",
        "conf = {\n",
        "    'bootstrap.servers': bootstrap_servers,\n",
        "    'security.protocol': 'SASL_SSL',\n",
        "    'sasl.mechanisms': 'PLAIN',\n",
        "    'sasl.username': sasl_username,\n",
        "    'sasl.password': sasl_password\n",
        "}\n",
        "\n",
        "producer = Producer(conf)\n",
        "\n",
        "# Generate and publish network traffic data to Kafka topic\n",
        "while True:\n",
        "    # Generate random network traffic data\n",
        "    source_ip = '.'.join(str(random.randint(0, 255)) for _ in range(4))\n",
        "    destination_ip = '.'.join(str(random.randint(0, 255)) for _ in range(4))\n",
        "    bytes_sent = random.randint(1000, 100000)\n",
        "\n",
        "    # Publish network traffic data to Kafka topic\n",
        "    message = f\"{source_ip},{destination_ip},{bytes_sent}\".encode('utf-8')\n",
        "    producer.produce(topic_name, value=message)\n",
        "\n",
        "    # Wait for the message to be delivered to Kafka\n",
        "    producer.flush()\n",
        "\n",
        "    # Wait for 1 second before generating next network traffic data\n",
        "    time.sleep(1)\n"
      ],
      "metadata": {
        "id": "JRaUkeXyY4XL"
      },
      "execution_count": null,
      "outputs": []
    }
  ]
}